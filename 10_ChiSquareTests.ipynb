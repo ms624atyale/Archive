{
  "nbformat": 4,
  "nbformat_minor": 0,
  "metadata": {
    "colab": {
      "provenance": [],
      "authorship_tag": "ABX9TyM6xrQqMCijL5VFWmyRqrkd",
      "include_colab_link": true
    },
    "kernelspec": {
      "name": "python3",
      "display_name": "Python 3"
    },
    "language_info": {
      "name": "python"
    }
  },
  "cells": [
    {
      "cell_type": "markdown",
      "metadata": {
        "id": "view-in-github",
        "colab_type": "text"
      },
      "source": [
        "<a href=\"https://colab.research.google.com/github/ms624atyale/Archive/blob/main/10_ChiSquareTests.ipynb\" target=\"_parent\"><img src=\"https://colab.research.google.com/assets/colab-badge.svg\" alt=\"Open In Colab\"/></a>"
      ]
    },
    {
      "cell_type": "markdown",
      "source": [
        "Q:\n",
        "Given that use of pronouns for feature a, interruptions in conversation for feature b, and use of fillers for feature c, I want to get a null hypothesis to test with the three features I just listed and possible interpretations with a result for p<0.05.\n",
        "\n",
        "\n",
        "A:\n",
        "Certainly! Here's a null hypothesis and possible interpretations for testing the relationship between gender and the use of pronouns (Feature A), interruptions in conversation (Feature B), and the use of fillers (Feature C):\n",
        "\n",
        "Null Hypothesis (H0): There is no association between gender and the frequency of linguistic features (pronoun use, interruptions, and filler usage) in conversation.\n",
        "\n",
        "Interpretations for p < 0.05:\n",
        "\n",
        "If p < 0.05 for all three features:\n",
        "\n",
        "Reject the null hypothesis.\n",
        "Interpretation: There is a significant association between gender and the frequency of pronoun use, interruptions, and filler usage in conversation. Gender differences exist in linguistic behavior, with male and female speakers exhibiting distinct patterns of pronoun use, interruption behavior, and filler usage.\n",
        "If p < 0.05 for some features but not others:\n",
        "\n",
        "Reject the null hypothesis for the significant features.\n",
        "Fail to reject the null hypothesis for the nonsignificant features.\n",
        "Interpretation: Gender differences are observed in the linguistic feature(s) where p < 0.05, indicating that male and female speakers exhibit different patterns of behavior in those aspects. However, no significant gender differences are found in the linguistic feature(s) where p > 0.05.\n",
        "If p > 0.05 for all three features:\n",
        "\n",
        "Fail to reject the null hypothesis.\n",
        "Interpretation: There is no significant association between gender and the frequency of pronoun use, interruptions, or filler usage in conversation. Male and female speakers demonstrate similar patterns of linguistic behavior in these aspects, and any observed differences are likely due to random variability.\n",
        "These interpretations provide insights into the potential relationships between gender and linguistic features in conversation, based on the results of hypothesis testing with p-values below the significance threshold of 0.05.\n",
        "\n",
        "Q:\n",
        "Why don't you use the data in the following table, with the assumption that we use the three specific features I mentioned in the above request? Give me chi-square tests with p value, degree of freedom, and expected frequencies.  \n",
        "ChatGPT\n",
        "Apologies for the oversight. Let's use the provided contingency table representing the frequencies of pronoun use (Feature A), interruptions in conversation (Feature B), and the use of fillers (Feature C) among male and female speakers. We'll conduct chi-square tests to examine the relationship between gender and these linguistic features.\n",
        "\n",
        "markdown\n",
        "Copy code\n",
        "                  |  Pronoun Use  |  Interruptions  |  Fillers\n",
        "--------------------------------------------------------------\n",
        "Male Speakers     |       50      |       30        |    20\n",
        "Female Speakers   |       30      |       40        |    50\n",
        "To perform the chi-square test, we'll use the chi2_contingency function from the scipy.stats module in Python. Let's calculate the chi-square statistic, p-value, degrees of freedom, and expected frequencies:\n",
        "\n",
        "python\n",
        "Copy code\n",
        "import numpy as np\n",
        "from scipy.stats import chi2_contingency\n",
        "\n",
        "# Define the contingency table\n",
        "observed_data = np.array([[50, 30, 20],\n",
        "                          [30, 40, 50]])\n",
        "\n",
        "# Perform chi-square test\n",
        "chi2_statistic, p_value, degrees_of_freedom, expected_data = chi2_contingency(observed_data)\n",
        "\n",
        "# Print the results\n",
        "print(\"Chi-square statistic:\", chi2_statistic)\n",
        "print(\"p-value:\", p_value)\n",
        "print(\"Degrees of freedom:\", degrees_of_freedom)\n",
        "print(\"Expected frequencies:\\n\", expected_data)\n",
        "Running this code will provide the chi-square statistic, p-value, degrees of freedom, and expected frequencies. These results will indicate whether there is a significant association between gender and the frequency of pronoun use, interruptions, and filler usage in conversation. If the p-value is less than the chosen significance level (e.g., 0.05), we would reject the null hypothesis of independence and conclude that there is a significant association between gender and the linguistic features. Otherwise, we would fail to reject the null hypothesis.\n",
        "\n",
        "Q:\n",
        "what is the role of degree of freedom in chi-square tests? If it high, what is the implicaiton? Which is better, low degree of freedom or high?\n",
        "\n",
        "A:\n",
        "In chi-square tests, the degree of freedom (df) represents the number of independent pieces of information used to calculate the chi-square statistic. It is calculated based on the dimensions of the contingency table (number of rows and columns) and is used to determine the critical value of the chi-square distribution for a given significance level.\n",
        "\n",
        "The role of degrees of freedom in chi-square tests is to assess the variability in the data and determine the appropriate critical value for evaluating the chi-square statistic. Higher degrees of freedom indicate greater flexibility in the data and allow for more variability in the observed frequencies. Conversely, lower degrees of freedom indicate less variability and more constraints in the data.\n",
        "\n",
        "The implications of having a high degree of freedom in a chi-square test depend on the context of the analysis:\n",
        "\n",
        "High Degree of Freedom:\n",
        "\n",
        "Greater flexibility in the data.\n",
        "More variability and less constraint in the observed frequencies.\n",
        "Allows for a finer distinction between expected and observed frequencies.\n",
        "Provides a more accurate representation of the relationship between variables.\n",
        "Increases the sensitivity of the test to detect significant associations.\n",
        "Requires larger sample sizes to achieve statistical significance due to the increased variability.\n",
        "Low Degree of Freedom:\n",
        "\n",
        "Less flexibility in the data.\n",
        "More constraint and less variability in the observed frequencies.\n",
        "May oversimplify the relationship between variables.\n",
        "Limits the ability to detect subtle associations or differences.\n",
        "Requires smaller sample sizes to achieve statistical significance due to the reduced variability.\n",
        "In general, neither low nor high degrees of freedom are inherently better in chi-square tests. The appropriate degree of freedom depends on the specific research question, the complexity of the data, and the desired level of sensitivity in detecting associations. Researchers should carefully consider the implications of degrees of freedom when interpreting the results of chi-square tests and selecting appropriate statistical methods for their analyses.\n",
        "\n",
        "Q:\n",
        "tell me the revised interpretation with the result of the chi-square tests with the the features above with the implication based on 2 degrees of freedom.\n",
        "\n",
        "A:\n",
        "With a chi-square test result indicating 2 degrees of freedom for the analysis of the linguistic features (pronoun use, interruptions, and filler usage) by gender, we can provide a revised interpretation based on the implication of this specific degrees of freedom:\n",
        "\n",
        "Revised Interpretation:\n",
        "\n",
        "Based on the chi-square test with 2 degrees of freedom:\n",
        "\n",
        "The test evaluates the association between gender and the frequency of linguistic features in conversation.\n",
        "With 2 degrees of freedom, the analysis considers the variability in the data and allows for a moderate level of flexibility in the observed frequencies.\n",
        "The chi-square statistic provides evidence regarding the strength and significance of the relationship between gender and linguistic features.\n",
        "Implications:\n",
        "\n",
        "A chi-square test with 2 degrees of freedom allows for a more nuanced assessment of the association between gender and linguistic features compared to tests with fewer degrees of freedom.\n",
        "The moderate flexibility in the data accommodates a range of patterns and variations in the observed frequencies, capturing potential differences between male and female speakers.\n",
        "Researchers can interpret the chi-square statistic and p-value in the context of 2 degrees of freedom to determine the significance of the relationship between gender and linguistic features.\n",
        "The results may provide insights into gender-related differences in language use, communication styles, and conversational behaviors.\n",
        "Overall, a chi-square test with 2 degrees of freedom offers a balanced approach to analyzing the association between gender and linguistic features, providing sufficient flexibility to capture meaningful patterns while controlling for potential sources of variability in the data.\n",
        "\n",
        "To calculate the expected frequencies for the contingency table provided earlier:\n",
        "\n",
        "sql\n",
        "Copy code\n",
        "          |  Category A  |  Category B  |  Category C\n",
        "------------------------------------------------------\n",
        "Group 1   |      30      |      20      |      10\n",
        "Group 2   |      15      |      25      |      20\n",
        "Group 3   |      25      |      15      |      30\n",
        "\n",
        "We first need to calculate the row totals Ri and column totals Cj, as well as the total count N of observations in the entire table.\n",
        "\n",
        "#<font color = 'red'> REFER TO FOMULAE </font>\n",
        "\n",
        "So, the expected frequencies for the corresponding contingency table are approximately:\n",
        "\n",
        "sql\n",
        "Copy code\n",
        "          |  Category A  |  Category B  |  Category C\n",
        "------------------------------------------------------\n",
        "Group 1   |      22.11   |      18.95   |      18.95\n",
        "Group 2   |      22.11   |      18.95   |      18.95\n",
        "Group 3   |      25.79   |      22.11   |      22.11\n",
        "User\n",
        "Give me some examples in humanities and social sciences which use chi-square tests.\n",
        "ChatGPT\n",
        "Chi-square tests are widely used in humanities and social sciences to analyze categorical data and investigate relationships between variables. Here are some examples of how chi-square tests are applied in these fields:\n",
        "\n",
        "Linguistics:\n",
        "\n",
        "Analyzing language use and proficiency among different demographic groups.\n",
        "Investigating patterns of language variation and change in different contexts.\n",
        "Examining the distribution of linguistic features across dialects or languages.\n",
        "Psychology:\n",
        "\n",
        "Studying the relationship between personality traits and behavior.\n",
        "Investigating the association between mental health disorders and demographic variables.\n",
        "Analyzing response patterns in psychological assessments or surveys.\n",
        "Sociology:\n",
        "\n",
        "Examining social mobility and its relationship with educational attainment.\n",
        "Investigating voting behavior and political preferences among different demographic groups.\n",
        "Analyzing patterns of discrimination and inequality based on demographic characteristics.\n",
        "Education:\n",
        "\n",
        "Assessing the effectiveness of teaching methods or interventions on student performance.\n",
        "Investigating the relationship between socioeconomic status and academic achievement.\n",
        "Analyzing patterns of school enrollment and dropout rates across different regions or demographics.\n",
        "Cultural Studies:\n",
        "\n",
        "Exploring cultural consumption patterns and preferences among different social groups.\n",
        "Analyzing representations of gender, race, or ethnicity in media and popular culture.\n",
        "Investigating the impact of cultural norms and values on behavior and identity formation.\n",
        "Anthropology:\n",
        "\n",
        "Studying kinship patterns and family structures across different cultures.\n",
        "Analyzing ritual practices and belief systems within cultural groups.\n",
        "Investigating patterns of migration and cultural adaptation among indigenous populations.\n",
        "In each of these examples, chi-square tests can be used to examine whether observed differences in categorical variables are statistically significant and whether there are associations or dependencies between variables. Chi-square tests provide valuable insights into the complex relationships and patterns present in humanities and social science research.\n",
        "\n",
        "\n",
        "\n",
        "A:\n",
        "In linguistics, various linguistic features can be used to investigate differences in language use among speakers of different genders. Here are some examples of linguistic features that could be used for features A, B, and C in the contingency table:\n",
        "\n",
        "Linguistic Feature A:\n",
        "\n",
        "Use of pronouns: Frequency of first-person pronouns (e.g., I, me) or third-person pronouns (e.g., he, she).\n",
        "Vocabulary choice: Frequency of specific lexical items or vocabulary associated with stereotypical gender roles.\n",
        "Speech style: Frequency of formal or informal language register.\n",
        "Linguistic Feature B:\n",
        "\n",
        "Interruptions in conversation: Frequency of interruptions made by speakers of each gender during conversations.\n",
        "Politeness strategies: Frequency of politeness markers or mitigating expressions used by speakers of each gender.\n",
        "Turn-taking behavior: Frequency of turn-taking strategies (e.g., overlapping speech) observed in conversations.\n",
        "Linguistic Feature C:\n",
        "\n",
        "Pitch and intonation: Frequency of pitch patterns or intonation contours associated with each gender.\n",
        "Use of fillers: Frequency of filler words or hesitations (e.g., \"uh\", \"um\") used during speech.\n",
        "Speech rate: Frequency of speaking rate variations observed in speech production by speakers of each gender.\n",
        "These are just a few examples of linguistic features that could be investigated in studies examining gender differences in language use. Researchers may choose specific linguistic features based on their research questions, theoretical framework, and the linguistic characteristics of the community under study.\n",
        "\n",
        "\n",
        "\n",
        "\n",
        "\n",
        "\n"
      ],
      "metadata": {
        "id": "nIa901T2Pz3Z"
      }
    },
    {
      "cell_type": "markdown",
      "source": [],
      "metadata": {
        "id": "oVV98KRlTjMb"
      }
    },
    {
      "cell_type": "markdown",
      "source": [
        "##[1. Row totals; Column totals; Total numbers](https://github.com/ms624atyale/Data_Analysis/blob/main/RowTotals_ColumnTotals_TotalN.png)\n",
        "\n",
        "##[2.Calculating expected frequencies](https://github.com/ms624atyale/Data_Analysis/blob/main/Fomula_ExpectedFrequencies.png)"
      ],
      "metadata": {
        "id": "F7NYGZ_jUvVs"
      }
    },
    {
      "cell_type": "markdown",
      "source": [],
      "metadata": {
        "id": "ZQiJ-JOrUvAB"
      }
    },
    {
      "cell_type": "code",
      "source": [],
      "metadata": {
        "colab": {
          "base_uri": "https://localhost:8080/"
        },
        "id": "dJyXz2FJT9k0",
        "outputId": "52a7f6ac-0a42-43ed-ef82-ea95a33ca1f1"
      },
      "execution_count": 30,
      "outputs": [
        {
          "output_type": "stream",
          "name": "stdout",
          "text": [
            "/bin/bash: -c: line 1: syntax error near unexpected token `('\n",
            "/bin/bash: -c: line 1: `[Alt text](https://github.com/ms624atyale/Data_Analysis/blob/main/RowTotals_ColumnTotals_TotalN.png.png)'\n"
          ]
        }
      ]
    },
    {
      "cell_type": "markdown",
      "source": [
        "1️⃣ 🍔🍔🍔 Chi-square tests with p>0.05"
      ],
      "metadata": {
        "id": "TVAeuszYQeaa"
      }
    },
    {
      "cell_type": "code",
      "execution_count": 25,
      "metadata": {
        "colab": {
          "base_uri": "https://localhost:8080/"
        },
        "id": "UHM8zUTjLlkf",
        "outputId": "206ee6c0-8306-4483-ca97-8db82e486fe8"
      },
      "outputs": [
        {
          "output_type": "stream",
          "name": "stdout",
          "text": [
            "                Use of Pronouns  Interuptions  Fillers\n",
            "Male over 18                100            30       85\n",
            "Female over 18              150           110       35\n",
            "Kids under 5                 35            95       68\n",
            "\n",
            "\n",
            "Chi-square statistic: 116.03860212058342\n",
            "\n",
            "\n",
            "p-value: 3.745689449120631e-24\n",
            "\n",
            "\n",
            "Degrees of freedom: 4\n",
            "\n",
            "\n",
            "Expected frequencies:\n",
            " [[ 86.54661017  71.36299435  57.09039548]\n",
            " [118.75        97.91666667  78.33333333]\n",
            " [ 79.70338983  65.72033898  52.57627119]]\n"
          ]
        }
      ],
      "source": [
        "import pandas as pd\n",
        "import numpy as np\n",
        "from scipy.stats import chi2_contingency\n",
        "\n",
        "# Define the contingency table\n",
        "observed_data = np.array([[100, 30, 85],\n",
        "                          [150, 110, 35],\n",
        "                          [35, 95, 68]])\n",
        "\n",
        "df = pd.DataFrame(observed_data, index = ['Male over 18', 'Female over 18', 'Kids under 5'], columns = ['Use of Pronouns', 'Interuptions', 'Fillers'])\n",
        "\n",
        "print(df)\n",
        "print('\\n')\n",
        "\n",
        "# Perform chi-square test\n",
        "chi2_statistic, p_value, degrees_of_freedom, expected_data = chi2_contingency(observed_data)\n",
        "\n",
        "# Print the results\n",
        "print(\"Chi-square statistic:\", chi2_statistic)\n",
        "print('\\n')\n",
        "print(\"p-value:\", p_value)\n",
        "print('\\n')\n",
        "print(\"Degrees of freedom:\", degrees_of_freedom)\n",
        "print('\\n')\n",
        "print(\"Expected frequencies:\\n\", expected_data)"
      ]
    },
    {
      "cell_type": "markdown",
      "source": [
        "2️⃣ 🍔 🍟🍴🍹"
      ],
      "metadata": {
        "id": "tiQ0gQMmQrCW"
      }
    },
    {
      "cell_type": "code",
      "source": [
        "import pandas as pd\n",
        "import numpy as np\n",
        "from scipy.stats import chi2_contingency\n",
        "\n",
        "observed_data = np.array([[25, 15, 10],\n",
        "                 [20, 30, 25],\n",
        "                 [15, 25, 30]])\n",
        "\n",
        "df = pd.DataFrame(observed_data, index = ['Male over 18', 'Female over 18', 'Kids under 5'], columns = ['Use of Pronouns', 'Interuptions', 'Fillers'])\n",
        "\n",
        "print(df)\n",
        "print('\\n')\n",
        "\n",
        "# Perform chi-square test\n",
        "chi2_statistic, p_value, degrees_of_freedom, expected_data = chi2_contingency(observed_data)\n",
        "\n",
        "# Print the results\n",
        "print(\"Chi-square statistic:\", chi2_statistic)\n",
        "print('\\n')\n",
        "print(\"p-value:\", p_value)\n",
        "print('\\n')\n",
        "print(\"Degrees of freedom:\", degrees_of_freedom)\n",
        "print('\\n')\n",
        "print(\"Expected frequencies:\\n\", expected_data)"
      ],
      "metadata": {
        "colab": {
          "base_uri": "https://localhost:8080/"
        },
        "id": "sfqJEgy7PDmv",
        "outputId": "db1141f1-f7ca-430c-9b39-5effa7d0b2c3"
      },
      "execution_count": 29,
      "outputs": [
        {
          "output_type": "stream",
          "name": "stdout",
          "text": [
            "                Use of Pronouns  Interuptions  Fillers\n",
            "Male over 18                 25            15       10\n",
            "Female over 18               20            30       25\n",
            "Kids under 5                 15            25       30\n",
            "\n",
            "\n",
            "Chi-square statistic: 13.812925170068029\n",
            "\n",
            "\n",
            "p-value: 0.007916689830293581\n",
            "\n",
            "\n",
            "Degrees of freedom: 4\n",
            "\n",
            "\n",
            "Expected frequencies:\n",
            " [[15.38461538 17.94871795 16.66666667]\n",
            " [23.07692308 26.92307692 25.        ]\n",
            " [21.53846154 25.12820513 23.33333333]]\n"
          ]
        }
      ]
    }
  ]
}