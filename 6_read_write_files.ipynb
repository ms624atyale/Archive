{
  "nbformat": 4,
  "nbformat_minor": 0,
  "metadata": {
    "colab": {
      "provenance": [],
      "authorship_tag": "ABX9TyPheK1yDeBHlJM5x/2rIpoT",
      "include_colab_link": true
    },
    "kernelspec": {
      "name": "python3",
      "display_name": "Python 3"
    },
    "language_info": {
      "name": "python"
    }
  },
  "cells": [
    {
      "cell_type": "markdown",
      "metadata": {
        "id": "view-in-github",
        "colab_type": "text"
      },
      "source": [
        "<a href=\"https://colab.research.google.com/github/ms624atyale/Archive/blob/main/6_read_write_files.ipynb\" target=\"_parent\"><img src=\"https://colab.research.google.com/assets/colab-badge.svg\" alt=\"Open In Colab\"/></a>"
      ]
    },
    {
      "cell_type": "markdown",
      "source": [
        "###**Read files in various formats**\n",
        "\n",
        "- <font color = 'red'> read_FILEFORMAT()fuction\n",
        "  - csv\n",
        "  - json\n",
        "  - html\n",
        "  - clipboard\n",
        "  - excel\n",
        "  - hdf\n",
        "  - sql\n",
        "\n",
        "###**Write files in various formats**\n",
        "- <font color = 'blue'> 00.to_FILEFORMAT(\"\")method\n",
        "  - csv\n",
        "  - json\n",
        "  - html\n",
        "  - clipboard\n",
        "  - excel\n",
        "  - hdf\n",
        "  - sql\n",
        "\n",
        "pp.058-062 (cf., 옵션 설명 표는 책 참조)\n",
        "\n",
        "[공공데이터포털](https://www.data.go.kr/)\n",
        "- csv, xlxs 등의 자료를 다운로드 받을 수 있는 대한민국 공식 전자정부 누리집\n",
        "\n"
      ],
      "metadata": {
        "id": "IQnkvIIkTKAI"
      }
    },
    {
      "cell_type": "markdown",
      "source": [
        "#🐹🐾**Reading data**"
      ],
      "metadata": {
        "id": "2yyw90n86PL4"
      }
    },
    {
      "cell_type": "markdown",
      "source": [
        "###**<font color = 'red'> 🐹🐾 Read the csv format**"
      ],
      "metadata": {
        "id": "laF0M7SpLCfz"
      }
    },
    {
      "cell_type": "code",
      "source": [
        "# csv (comma separated values) format\n",
        "\n",
        "import pandas as pd\n",
        "\n",
        "#file directory\n",
        "file = \"/content/sample_data/sample.csv\"\n",
        "\n",
        "#read_csv() function으ㄹ 사용하여 데이터프레임 변환, 기본값 0행을 열 지정 (열지정이 뭐야??)\n",
        "df1 = pd.read_csv(file)\n",
        "print(df1)\n",
        "print('\\n')\n",
        "\n",
        "#header = None 선택\n",
        "df2 = pd.read_csv(file, header = None)\n",
        "print(df2)\n",
        "print('\\n')\n",
        "\n",
        "#hearder = 1 선택\n",
        "df3 = pd.read_csv(file, header = 1)\n",
        "print(df3)\n",
        "print('\\n')\n",
        "\n",
        "#index_col = False (인덱스 지정하지 않음)\n",
        "df4 = pd.read_csv(file, index_col = False)\n",
        "print(df4)\n",
        "print('\\n')\n",
        "\n",
        "#index_col = 'c0' 첫 번째 열을 인덱스 지정\n",
        "df5 = pd.read_csv(file, index_col = 'c0')\n",
        "print(df5)\n",
        "\n",
        "\n"
      ],
      "metadata": {
        "colab": {
          "base_uri": "https://localhost:8080/"
        },
        "id": "pq2pkeHvTJfD",
        "outputId": "53202533-be64-4c9d-96d9-250d0904649f"
      },
      "execution_count": null,
      "outputs": [
        {
          "output_type": "stream",
          "name": "stdout",
          "text": [
            "   c0  c1  c2  c3\n",
            "0   0   1   4   7\n",
            "1   1   2   5   8\n",
            "2   2   3   6   9\n",
            "\n",
            "\n",
            "    0   1   2   3\n",
            "0  c0  c1  c2  c3\n",
            "1   0   1   4   7\n",
            "2   1   2   5   8\n",
            "3   2   3   6   9\n",
            "\n",
            "\n",
            "   0  1  4  7\n",
            "0  1  2  5  8\n",
            "1  2  3  6  9\n",
            "\n",
            "\n",
            "   c0  c1  c2  c3\n",
            "0   0   1   4   7\n",
            "1   1   2   5   8\n",
            "2   2   3   6   9\n",
            "\n",
            "\n",
            "    c1  c2  c3\n",
            "c0            \n",
            "0    1   4   7\n",
            "1    2   5   8\n",
            "2    3   6   9\n"
          ]
        }
      ]
    },
    {
      "cell_type": "markdown",
      "source": [
        "###**<font color = 'red'> 🐹🐾 Read the excel format**\n",
        "- use element (engine = 'openpyxl') for .xlxs\n",
        "- use element (engine = 'xlrd') for .xls"
      ],
      "metadata": {
        "id": "nuR9zbudLZS5"
      }
    },
    {
      "cell_type": "code",
      "execution_count": null,
      "metadata": {
        "id": "HDGtFK4eTHmK",
        "colab": {
          "base_uri": "https://localhost:8080/"
        },
        "outputId": "9af44c12-17b7-4449-f551-5f7844a20752"
      },
      "outputs": [
        {
          "output_type": "stream",
          "name": "stdout",
          "text": [
            "  전력량 (억㎾h) 발전 전력별  1990  1991  1992  1993  1994  1995  1996  1997  ...  2007  \\\n",
            "0        남한     합계  1077  1186  1310  1444  1650  1847  2055  2244  ...  4031   \n",
            "1       NaN     수력    64    51    49    60    41    55    52    54  ...    50   \n",
            "2       NaN     화력   484   573   696   803  1022  1122  1264  1420  ...  2551   \n",
            "3       NaN    원자력   529   563   565   581   587   670   739   771  ...  1429   \n",
            "4       NaN    신재생     -     -     -     -     -     -     -     -  ...     -   \n",
            "5        북한     합계   277   263   247   221   231   230   213   193  ...   236   \n",
            "6       NaN     수력   156   150   142   133   138   142   125   107  ...   133   \n",
            "7       NaN     화력   121   113   105    88    93    88    88    86  ...   103   \n",
            "8       NaN    원자력     -     -     -     -     -     -     -     -  ...     -   \n",
            "\n",
            "   2008  2009  2010  2011  2012  2013  2014  2015  2016  \n",
            "0  4224  4336  4747  4969  5096  5171  5220  5281  5404  \n",
            "1    56    56    65    78    77    84    78    58    66  \n",
            "2  2658  2802  3196  3343  3430  3581  3427  3402  3523  \n",
            "3  1510  1478  1486  1547  1503  1388  1564  1648  1620  \n",
            "4     -     -     -     -    86   118   151   173   195  \n",
            "5   255   235   237   211   215   221   216   190   239  \n",
            "6   141   125   134   132   135   139   130   100   128  \n",
            "7   114   110   103    79    80    82    86    90   111  \n",
            "8     -     -     -     -     -     -     -     -     -  \n",
            "\n",
            "[9 rows x 29 columns]\n",
            "\n",
            "\n",
            "          0       1     2     3     4     5     6     7     8     9   ...  \\\n",
            "0  전력량 (억㎾h)  발전 전력별  1990  1991  1992  1993  1994  1995  1996  1997  ...   \n",
            "1         남한      합계  1077  1186  1310  1444  1650  1847  2055  2244  ...   \n",
            "2        NaN      수력    64    51    49    60    41    55    52    54  ...   \n",
            "3        NaN      화력   484   573   696   803  1022  1122  1264  1420  ...   \n",
            "4        NaN     원자력   529   563   565   581   587   670   739   771  ...   \n",
            "5        NaN     신재생     -     -     -     -     -     -     -     -  ...   \n",
            "6         북한      합계   277   263   247   221   231   230   213   193  ...   \n",
            "7        NaN      수력   156   150   142   133   138   142   125   107  ...   \n",
            "8        NaN      화력   121   113   105    88    93    88    88    86  ...   \n",
            "9        NaN     원자력     -     -     -     -     -     -     -     -  ...   \n",
            "\n",
            "     19    20    21    22    23    24    25    26    27    28  \n",
            "0  2007  2008  2009  2010  2011  2012  2013  2014  2015  2016  \n",
            "1  4031  4224  4336  4747  4969  5096  5171  5220  5281  5404  \n",
            "2    50    56    56    65    78    77    84    78    58    66  \n",
            "3  2551  2658  2802  3196  3343  3430  3581  3427  3402  3523  \n",
            "4  1429  1510  1478  1486  1547  1503  1388  1564  1648  1620  \n",
            "5     -     -     -     -     -    86   118   151   173   195  \n",
            "6   236   255   235   237   211   215   221   216   190   239  \n",
            "7   133   141   125   134   132   135   139   130   100   128  \n",
            "8   103   114   110   103    79    80    82    86    90   111  \n",
            "9     -     -     -     -     -     -     -     -     -     -  \n",
            "\n",
            "[10 rows x 29 columns]\n"
          ]
        }
      ],
      "source": [
        "import pandas as pd\n",
        "df1 = pd.read_excel(\"/content/sample_data/남북한발전전력량.xlsx\", engine = 'openpyxl') #header = 0 (by default)\n",
        "df2 = pd.read_excel(\"/content/sample_data/남북한발전전력량.xlsx\", engine = 'openpyxl', header = None) #header unapplied\n",
        "\n",
        "print(df1)\n",
        "print('\\n')\n",
        "print(df2)"
      ]
    },
    {
      "cell_type": "markdown",
      "source": [
        "###**<font color = 'red'> 🐹🐾 Read the html format**\n",
        "- visit a webpage.\n",
        " - e.g., google.com ➡️ hold <CONTROL> + Click ➡️ save as <Google> with the format of <Webpage, HTML Only> ➡️ hit Upload ➡️ select the <Google.html>\n",
        ">\n",
        "- [정보문화사 파이썬 머신러닝 판다스 데이터 분석](http://www.infopub.co.kr/new/include/detail.asp?sku=05000266) ➡️ 샘플자료 다운로드 (우측 하단)"
      ],
      "metadata": {
        "id": "YBoUnRxrLbNJ"
      }
    },
    {
      "cell_type": "code",
      "source": [
        "import pandas as pd\n",
        "\n",
        "url = \"/content/sample_data/sample.html\"\n",
        "\n",
        "#html 웹페이지의 표를 가져와서 데이터프레임으로 변환\n",
        "tables = pd.read_html(url)\n",
        "\n",
        "#표 개수 확인\n",
        "print(len(tables))\n",
        "print('\\n')\n",
        "\n",
        "#표 리스트의 원소를 반복하면서 (interating the element of the table list) 화면 출력\n",
        "for i in range(len(tables)):\n",
        "  print(\"tables[%s]\" %i)\n",
        "  print(tables[i])\n",
        "  print('\\n')\n",
        "\n",
        "#파이썬 패키지 정보가 들어 있는 두 번째 데이터프레임을 선택하여 df 변수에 저장\n",
        "df = tables[i]\n",
        "\n",
        "#name 열을 인덱스로 저장\n",
        "df.set_index(['name'], inplace = True)\n",
        "print(df)"
      ],
      "metadata": {
        "colab": {
          "base_uri": "https://localhost:8080/"
        },
        "id": "jPxRRr_iTs_P",
        "outputId": "44b48e84-072a-4e77-fdfb-68a5f3d0a0c4"
      },
      "execution_count": null,
      "outputs": [
        {
          "output_type": "stream",
          "name": "stdout",
          "text": [
            "2\n",
            "\n",
            "\n",
            "tables[0]\n",
            "   Unnamed: 0  c0  c1  c2  c3\n",
            "0           0   0   1   4   7\n",
            "1           1   1   2   5   8\n",
            "2           2   2   3   6   9\n",
            "\n",
            "\n",
            "tables[1]\n",
            "         name  year        developer  opensource\n",
            "0       NumPy  2006  Travis Oliphant        True\n",
            "1  matplotlib  2003   John D. Hunter        True\n",
            "2      pandas  2008    Wes Mckinneye        True\n",
            "\n",
            "\n",
            "            year        developer  opensource\n",
            "name                                         \n",
            "NumPy       2006  Travis Oliphant        True\n",
            "matplotlib  2003   John D. Hunter        True\n",
            "pandas      2008    Wes Mckinneye        True\n"
          ]
        }
      ]
    },
    {
      "cell_type": "markdown",
      "source": [
        "#🐹🐾**Saving data**"
      ],
      "metadata": {
        "id": "qSGoqXGX3HxH"
      }
    },
    {
      "cell_type": "markdown",
      "source": [
        "###🐹🐾<font color = 'blue'> **Write as the csv format**"
      ],
      "metadata": {
        "id": "DDvgPpZ958GA"
      }
    },
    {
      "cell_type": "code",
      "source": [
        "#saving as csv format\n",
        "\n",
        "import pandas as pd\n",
        "\n",
        "#판다스 DataFrame()함수로 데이터프레임 변환한 것을 변수로 할당\n",
        "\n",
        "data = {'name': ['Emma', \"Sean\", \"Witney\"],\n",
        "        'algol': ['A', 'A+', 'B'],\n",
        "        'basic': ['C', 'B', 'B+'],\n",
        "        'c++': ['B+','C', 'C+'],\n",
        "}\n",
        "df = pd.DataFrame(data)\n",
        "df.set_index('name', inplace=True) #name 열을 인덱스로 지정\n",
        "#df.set_index('c++', inplace=True) #c++ 열을 인덱스로 지정\n",
        "print(df)\n",
        "\n",
        "df.to_csv(\"./df_sample.csv\") #csv file saved in the <sample_data> directory of Colab\n",
        "\n"
      ],
      "metadata": {
        "id": "R6pfp3sQ3Ns-",
        "outputId": "2ff5e9b4-ac84-4a39-86d8-bd844c7ab5d5",
        "colab": {
          "base_uri": "https://localhost:8080/"
        }
      },
      "execution_count": null,
      "outputs": [
        {
          "output_type": "stream",
          "name": "stdout",
          "text": [
            "       algol basic c++\n",
            "name                  \n",
            "Emma       A     C  B+\n",
            "Sean      A+     B   C\n",
            "Witney     B    B+  C+\n"
          ]
        }
      ]
    },
    {
      "cell_type": "markdown",
      "source": [
        "###🐹🐾<font color = 'blue'> **Write as the excel format**"
      ],
      "metadata": {
        "id": "viZr0ns2Hmnj"
      }
    },
    {
      "cell_type": "code",
      "source": [
        "import pandas as pd\n",
        "\n",
        "#data변수에 사전형 데이터로 자료를 정리\n",
        "data = {'name': ['Emily', 'Andy', 'John'],\n",
        "        'c++':['A', 'A+', 'B'],\n",
        "        'basic': ['C', 'B', 'B+'],\n",
        "        'JAVA': ['B+', 'C', 'C+']\n",
        "        }\n",
        "\n",
        "#Pandas DataFrame()function을 사용하여 데이터프레임 변환하여 이를 df 변수에 할당\n",
        "df = pd.DataFrame(data)\n",
        "df.set_index('name', inplace=True)\n",
        "print(df)\n",
        "\n",
        "df.to_excel('./df_sample.xlsx')\n"
      ],
      "metadata": {
        "id": "Fr21vPH_HtSS",
        "outputId": "0b3c5d8b-acb1-46b1-e462-4a6ba8c890c9",
        "colab": {
          "base_uri": "https://localhost:8080/"
        }
      },
      "execution_count": null,
      "outputs": [
        {
          "output_type": "stream",
          "name": "stdout",
          "text": [
            "      c++ basic JAVA\n",
            "name                \n",
            "Emily   A     C   B+\n",
            "Andy   A+     B    C\n",
            "John    B    B+   C+\n"
          ]
        }
      ]
    },
    {
      "cell_type": "markdown",
      "source": [
        "###🐹🐾<font color = 'blue'> **Write as the excel format after combining multiple data frames**\n"
      ],
      "metadata": {
        "id": "o57zV9qiKspG"
      }
    },
    {
      "cell_type": "code",
      "source": [
        "#여러개의 excel 파일을 파일 하나로 저장하기\n",
        "\n",
        "import pandas as pd\n",
        "\n",
        "data1 = {'name': ['Emily', 'Andy', 'John'],\n",
        "        'c++':['A', 'A+', 'B'],\n",
        "        'basic': ['C', 'B', 'B+'],\n",
        "        'JAVA': ['B+', 'C', 'C+']\n",
        "        }\n",
        "\n",
        "data2 = {'c0':[1,2,3],\n",
        "         'c1':[4,5,6],\n",
        "         'c2':[7,8,9],\n",
        "         'c3':[10,11,12],\n",
        "         'c4':[13,14,15]\n",
        "         }\n",
        "\n",
        "df1=pd.DataFrame(data1)\n",
        "df1.set_index('name', inplace=True)\n",
        "print(df1)\n",
        "print('\\n')\n",
        "\n",
        "df2=pd.DataFrame(data2)\n",
        "df2.set_index('c0', inplace=True)\n",
        "print(df2)\n",
        "\n",
        "#df1을 sheet1으로, df2를 sheet2로 저장. 파일명은 df_excelwriter.xlsx 로 해본다.\n",
        "\n",
        "writer = pd.ExcelWriter(\"./df_excelwriter.xlsx\")\n",
        "\n",
        "df1.to_excel(writer, sheet_name = 'grading')\n",
        "df2.to_excel(writer, sheet_name='numbers')\n",
        "writer.close() #To address this, you can use the writer.close() method instead of save(). This will properly close the Excel file and ensure that all the data is saved."
      ],
      "metadata": {
        "id": "EY3A1qAuK106",
        "outputId": "b3e3bbe6-f2f8-4a36-bfc6-71f553d2a42d",
        "colab": {
          "base_uri": "https://localhost:8080/"
        }
      },
      "execution_count": null,
      "outputs": [
        {
          "output_type": "stream",
          "name": "stdout",
          "text": [
            "      c++ basic JAVA\n",
            "name                \n",
            "Emily   A     C   B+\n",
            "Andy   A+     B    C\n",
            "John    B    B+   C+\n",
            "\n",
            "\n",
            "    c1  c2  c3  c4\n",
            "c0                \n",
            "1    4   7  10  13\n",
            "2    5   8  11  14\n",
            "3    6   9  12  15\n"
          ]
        }
      ]
    }
  ]
}