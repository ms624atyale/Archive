{
  "nbformat": 4,
  "nbformat_minor": 0,
  "metadata": {
    "colab": {
      "provenance": [],
      "authorship_tag": "ABX9TyMk5WxhFv0NT82XfoCB9w1k",
      "include_colab_link": true
    },
    "kernelspec": {
      "name": "python3",
      "display_name": "Python 3"
    },
    "language_info": {
      "name": "python"
    }
  },
  "cells": [
    {
      "cell_type": "markdown",
      "metadata": {
        "id": "view-in-github",
        "colab_type": "text"
      },
      "source": [
        "<a href=\"https://colab.research.google.com/github/ms624atyale/Archive/blob/main/STT_WER.ipynb\" target=\"_parent\"><img src=\"https://colab.research.google.com/assets/colab-badge.svg\" alt=\"Open In Colab\"/></a>"
      ]
    },
    {
      "cell_type": "markdown",
      "source": [
        "## 🐹 🐾  <font color = 'red'>**TTS (Text-to-Speech)**\n",
        "\n",
        "### 📌 Precondition:\n",
        "Define your own functions and include them in your code lines.\n",
        "\n",
        "🔍 [about Functions](https://github.com/ms624atyale/Python_Basics/blob/main/8_DefiningFunctions.ipynb)\n",
        "\n",
        "#### **Step 0**: Install gTTS package.\n",
        "\n",
        "     🎧 🔉 TTS (text-to-speech) with multiple accents available\n",
        "     \n",
        "     How to use:\n",
        "     1. Install the gTTS package 🏫 (**code line**: !pip install gTTS)\n",
        "        * The gTTS library is a Python wrapper for the Google Text-to-Speech(TTS)\n",
        "        API(Application Programming Interface). It allows you to convert text into speech using Google's text-to-speech service.\n",
        "        * The gTTS library provides a convenient way to generate speech from text by utilizing the power\n",
        "        of Google's TTS engine. It allows you to specify the text to be converted, choose the desired\n",
        "        language, and control various parameters such as the speed of speech.\n",
        "\n",
        "     2. Import subordinate units (modues🎁 and  functions [📎📐][🏀⚽⚾][📕📗📘📙])\n",
        "\n",
        "     3. Select an accent of your choice among English (en), French (fr), Korean (ko), and Spanish (es).\n",
        "\n",
        "     4. Enter a text, and generate and save a wave file.\n",
        "\n",
        "     5. Play the wave file.\n",
        "\n",
        ">\n",
        "\n",
        "    Commonly used language codes supported by the gTTS\n",
        "    * Afrikaans: \"af\"    * Albanian: \"sq\"\n",
        "    * Arabic: \"ar\"       * Bengali: \"bn\"\n",
        "    * Catalan: \"ca\"      * Chinese (Simplified): \"zh-cn\"\n",
        "    * Chinese (Traditional): \"zh-tw\"     * Croatian: \"hr\"\n",
        "    * Czech: \"cs\"        * Danish: \"da\"\n",
        "    * Dutch: \"nl\"        * English: \"en\"\n",
        "    * Esperanto: \"eo\"    * Estonian: \"et\"\n",
        "    * Filipino: \"tl\"     * Finnish: \"fi\"\n",
        "    * French: \"fr\"       * German: \"de\"\n",
        "    * Greek: \"el\"        * Hindi: \"hi\"\n",
        "    * Hungarian: \"hu\"    * Icelandic: \"is\"\n",
        "    * Indonesian: \"id\".  * Irish: \"ga\"\n",
        "    * Italian: \"it\".     * Japanese: \"ja\"\n",
        "    * Korean: \"ko\"       * Latin: \"la\"\n",
        "    * Latvian: \"lv\"      * Lithuanian: \"lt\"\n",
        "    * Macedonian: \"mk\".  * Malay: \"ms\"\n",
        "    * Maltese: \"mt\".     * Norwegian: \"no\"\n",
        "    * Polish: \"pl\"       * Portuguese: \"pt\"\n",
        "    * Romanian: \"ro\".    * Russian: \"ru\"\n",
        "    * Serbian: \"sr\".     * Slovak: \"sk\"\n",
        "    * Slovenian: \"sl\".   * Spanish: \"es\"\n",
        "    * Swahili: \"sw\".     * Swedish: \"sv\"\n",
        "    * Tamil: \"ta\".       * Telugu: \"te\"\n",
        "    * Thai: \"th\".        * Turkish: \"tr\"\n",
        "    * Ukrainian: \"uk\".   * Urdu: \"ur\"\n",
        "    * Vietnamese: \"vi\".  * Welsh: \"cy\"\n",
        "    * Zulu: \"zu\"\n"
      ],
      "metadata": {
        "id": "yBYKRnFWfXGD"
      }
    },
    {
      "cell_type": "code",
      "source": [
        "#@markdown **Step 1 with annotations**: Install the **gTTS** packages and import its relevant modules and functions\n",
        "\n",
        "#@markdown [IPython & Shell](\"https://github.com/ms624atyale/Python_Basics/blob/main/ChatGPT_1_IPython_Shell.ipynb\")\n",
        "\n",
        "!pip install gTTS\n",
        "from gtts import gTTS #gTTS패키지에서 gTTS모듈을 불러들여라.\n",
        "from IPython.display import Audio #IPython.display모듈에서 Audio함수를 호출한다."
      ],
      "metadata": {
        "colab": {
          "base_uri": "https://localhost:8080/"
        },
        "cellView": "form",
        "id": "AFyY_FrUFhzv",
        "outputId": "6fa852da-b70f-4ef3-a2a3-389e407c4aa0"
      },
      "execution_count": 3,
      "outputs": [
        {
          "output_type": "stream",
          "name": "stdout",
          "text": [
            "Collecting gTTS\n",
            "  Downloading gTTS-2.5.4-py3-none-any.whl.metadata (4.1 kB)\n",
            "Requirement already satisfied: requests<3,>=2.27 in /usr/local/lib/python3.10/dist-packages (from gTTS) (2.32.3)\n",
            "Requirement already satisfied: click<8.2,>=7.1 in /usr/local/lib/python3.10/dist-packages (from gTTS) (8.1.7)\n",
            "Requirement already satisfied: charset-normalizer<4,>=2 in /usr/local/lib/python3.10/dist-packages (from requests<3,>=2.27->gTTS) (3.4.0)\n",
            "Requirement already satisfied: idna<4,>=2.5 in /usr/local/lib/python3.10/dist-packages (from requests<3,>=2.27->gTTS) (3.10)\n",
            "Requirement already satisfied: urllib3<3,>=1.21.1 in /usr/local/lib/python3.10/dist-packages (from requests<3,>=2.27->gTTS) (2.2.3)\n",
            "Requirement already satisfied: certifi>=2017.4.17 in /usr/local/lib/python3.10/dist-packages (from requests<3,>=2.27->gTTS) (2024.8.30)\n",
            "Downloading gTTS-2.5.4-py3-none-any.whl (29 kB)\n",
            "Installing collected packages: gTTS\n",
            "Successfully installed gTTS-2.5.4\n"
          ]
        }
      ]
    },
    {
      "cell_type": "code",
      "source": [
        "#@markdown **Step 2 with annotations**: Define a function that enables a user to i) select an accent, ii) generate a wave file, and iii) spit out a corresponding play window.\n",
        "\n",
        "def tts(text):\n",
        "  text_to_speech = text\n",
        "  language=\"en\" #@param[\"en\",\"fr\",\"ko\",\"es\",\"de\",\"hi\",\"ja\",\"it\"]\n",
        "\n",
        "\n",
        "  gtts_object = gTTS(text = text_to_speech,\n",
        "                     lang = language,\n",
        "                     slow = False)\n",
        "  gtts_object.save(\"myaudio.wav\") #gtts_object변수를 save모듈 사용하여 'myaudio.wav'로 저장하기\n",
        "  return Audio(\"myaudio.wav\") #Audio함수를 사용하여 'myaudio.wav'를 반환하라."
      ],
      "metadata": {
        "id": "paJAp9gzgEiT"
      },
      "execution_count": 17,
      "outputs": []
    },
    {
      "cell_type": "code",
      "source": [
        "#@markdown **Step 3 with annotations**: Type in (or copy & past) any texts of yoour interest in the input box.\n",
        "\n",
        "#@markdown <font size='2.8'>[Type-in example] : <font color='red'> _Top Gun Maverick is starring with Tom Cruise._\n",
        "text_to_speech = input('Enter a text you would like to hear:')\n",
        "txt = str(text_to_speech) #str함수에 입력된 텍스트를 인자로 넣어, 이를 txt변수에 할당.\n",
        "print(\"Help: Three dots in the audio window provide various playback speed. The default is set up for normal.\")\n",
        "tts(txt) #tts함수에 txt변수를 인자로 넣기"
      ],
      "metadata": {
        "colab": {
          "base_uri": "https://localhost:8080/",
          "height": 130
        },
        "id": "dQ-OMssWgRK0",
        "outputId": "832a04a1-1adb-451d-8deb-8609fa47ddee"
      },
      "execution_count": 20,
      "outputs": [
        {
          "output_type": "stream",
          "name": "stdout",
          "text": [
            "Enter a text you would like to hear:her efforts were not futile\n",
            "Help: Three dots in the audio window provide various playback speed. The default is set up for normal.\n"
          ]
        },
        {
          "output_type": "execute_result",
          "data": {
            "text/plain": [
              "<IPython.lib.display.Audio object>"
            ],
            "text/html": [
              "\n",
              "                <audio  controls=\"controls\" >\n",
              "                    <source src=\"data:audio/x-wav;base64,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\" type=\"audio/x-wav\" />\n",
              "                    Your browser does not support the audio element.\n",
              "                </audio>\n",
              "              "
            ]
          },
          "metadata": {},
          "execution_count": 20
        }
      ]
    },
    {
      "cell_type": "markdown",
      "source": [
        "## 😉 🐹 🐾 **Automatic Speech Recognition (STT) combined with Word Error Rate**"
      ],
      "metadata": {
        "id": "r19u6FaMgapA"
      }
    },
    {
      "cell_type": "markdown",
      "source": [
        "<font color = 'red'> **WER = Error words (Substitutions + Deletions + Insertions) / Total Reference Words**\n",
        "\n",
        "**Interpretation:** A lower WER indicates better performance, with 0\n",
        "representing perfect transcription and 1 complete misrecognition,\n",
        "potentially exceeding 1 with more insertions.\n",
        "\n",
        "    - To convert human speech in wave format to text using Automatic Speech Recognition (ASR)\n",
        "    or Speech-to-Text (STT) technology, you can utilize the SpeechRecognition library in Python.\n",
        "    This library provides an interface to several popular STT engines. Here's an example code snippet:\n",
        "    In this example, the convert_speech_to_text() function takes the path to the WAV audio file as input\n",
        "    and returns the recognized text. It uses the speech_recognition library to create a Recognizer instance.\n",
        "    The audio file is loaded using sr.AudioFile, and the record() method is used to extract the audio data.\n",
        "    \n",
        "    - The recognize_google() method is used with the Google Speech Recognition API to perform the speech-to-text\n",
        "    conversion. This requires an internet connection and may be subject to usage limits and terms of service.\n",
        "\n",
        "    - Replace \"path/to/your/audio.wav\" with the actual path to your WAV audio file. After running the code,\n",
        "    the recognized text will be printed to the console.\n",
        "\n",
        "    - Note that the accuracy of speech recognition can vary depending on factors such as audio quality,\n",
        "    background noise, speaker accent, and the specific STT engine being used."
      ],
      "metadata": {
        "id": "P419Y8oPTr8y"
      }
    },
    {
      "cell_type": "code",
      "source": [
        "!pip install SpeechRecognition\n",
        "\n",
        "import os\n",
        "import speech_recognition as sr\n",
        "\n",
        "def convert_speech_to_text(audio_file):\n",
        "    recognizer = sr.Recognizer()\n",
        "\n",
        "    with sr.AudioFile(audio_file) as source:\n",
        "        audio = recognizer.record(source)  # Load the audio file\n",
        "\n",
        "    text = recognizer.recognize_google(audio)  # Use Google Speech Recognition API\n",
        "\n",
        "    return text\n",
        "\n",
        "def count_words(text):\n",
        "    words = text.split()  # Split the text into words\n",
        "    return len(words)    # Return the count of words\n",
        "\n",
        "# Path to the folder containing the WAV files\n",
        "folder_path = \"/content/reference\"\n",
        "\n",
        "# Iterate over the files in the folder\n",
        "for filename in os.listdir(folder_path):\n",
        "    if filename.endswith(\".wav\"):\n",
        "        audio_file = os.path.join(folder_path, filename)\n",
        "\n",
        "        converted_text = convert_speech_to_text(audio_file)  # Convert speech to text\n",
        "\n",
        "        word_count = count_words(converted_text)  # Count the words in the converted text\n",
        "\n",
        "        print(f\"File: {filename}\")\n",
        "        print(f\"Text: {converted_text}\")\n",
        "        print(f\"Word Count: {word_count}\\n\")\n"
      ],
      "metadata": {
        "colab": {
          "base_uri": "https://localhost:8080/",
          "height": 445
        },
        "id": "5ZNSW-9ciBgB",
        "outputId": "146e87cb-2d8a-4c1b-f1db-655e34f81778"
      },
      "execution_count": 27,
      "outputs": [
        {
          "output_type": "stream",
          "name": "stdout",
          "text": [
            "Requirement already satisfied: SpeechRecognition in /usr/local/lib/python3.10/dist-packages (3.12.0)\n",
            "Requirement already satisfied: typing-extensions in /usr/local/lib/python3.10/dist-packages (from SpeechRecognition) (4.12.2)\n"
          ]
        },
        {
          "output_type": "error",
          "ename": "UnknownValueError",
          "evalue": "",
          "traceback": [
            "\u001b[0;31m---------------------------------------------------------------------------\u001b[0m",
            "\u001b[0;31mUnknownValueError\u001b[0m                         Traceback (most recent call last)",
            "\u001b[0;32m<ipython-input-27-f341642e4852>\u001b[0m in \u001b[0;36m<cell line: 24>\u001b[0;34m()\u001b[0m\n\u001b[1;32m     26\u001b[0m         \u001b[0maudio_file\u001b[0m \u001b[0;34m=\u001b[0m \u001b[0mos\u001b[0m\u001b[0;34m.\u001b[0m\u001b[0mpath\u001b[0m\u001b[0;34m.\u001b[0m\u001b[0mjoin\u001b[0m\u001b[0;34m(\u001b[0m\u001b[0mfolder_path\u001b[0m\u001b[0;34m,\u001b[0m \u001b[0mfilename\u001b[0m\u001b[0;34m)\u001b[0m\u001b[0;34m\u001b[0m\u001b[0;34m\u001b[0m\u001b[0m\n\u001b[1;32m     27\u001b[0m \u001b[0;34m\u001b[0m\u001b[0m\n\u001b[0;32m---> 28\u001b[0;31m         \u001b[0mconverted_text\u001b[0m \u001b[0;34m=\u001b[0m \u001b[0mconvert_speech_to_text\u001b[0m\u001b[0;34m(\u001b[0m\u001b[0maudio_file\u001b[0m\u001b[0;34m)\u001b[0m  \u001b[0;31m# Convert speech to text\u001b[0m\u001b[0;34m\u001b[0m\u001b[0;34m\u001b[0m\u001b[0m\n\u001b[0m\u001b[1;32m     29\u001b[0m \u001b[0;34m\u001b[0m\u001b[0m\n\u001b[1;32m     30\u001b[0m         \u001b[0mword_count\u001b[0m \u001b[0;34m=\u001b[0m \u001b[0mcount_words\u001b[0m\u001b[0;34m(\u001b[0m\u001b[0mconverted_text\u001b[0m\u001b[0;34m)\u001b[0m  \u001b[0;31m# Count the words in the converted text\u001b[0m\u001b[0;34m\u001b[0m\u001b[0;34m\u001b[0m\u001b[0m\n",
            "\u001b[0;32m<ipython-input-27-f341642e4852>\u001b[0m in \u001b[0;36mconvert_speech_to_text\u001b[0;34m(audio_file)\u001b[0m\n\u001b[1;32m     10\u001b[0m         \u001b[0maudio\u001b[0m \u001b[0;34m=\u001b[0m \u001b[0mrecognizer\u001b[0m\u001b[0;34m.\u001b[0m\u001b[0mrecord\u001b[0m\u001b[0;34m(\u001b[0m\u001b[0msource\u001b[0m\u001b[0;34m)\u001b[0m  \u001b[0;31m# Load the audio file\u001b[0m\u001b[0;34m\u001b[0m\u001b[0;34m\u001b[0m\u001b[0m\n\u001b[1;32m     11\u001b[0m \u001b[0;34m\u001b[0m\u001b[0m\n\u001b[0;32m---> 12\u001b[0;31m     \u001b[0mtext\u001b[0m \u001b[0;34m=\u001b[0m \u001b[0mrecognizer\u001b[0m\u001b[0;34m.\u001b[0m\u001b[0mrecognize_google\u001b[0m\u001b[0;34m(\u001b[0m\u001b[0maudio\u001b[0m\u001b[0;34m)\u001b[0m  \u001b[0;31m# Use Google Speech Recognition API\u001b[0m\u001b[0;34m\u001b[0m\u001b[0;34m\u001b[0m\u001b[0m\n\u001b[0m\u001b[1;32m     13\u001b[0m \u001b[0;34m\u001b[0m\u001b[0m\n\u001b[1;32m     14\u001b[0m     \u001b[0;32mreturn\u001b[0m \u001b[0mtext\u001b[0m\u001b[0;34m\u001b[0m\u001b[0;34m\u001b[0m\u001b[0m\n",
            "\u001b[0;32m/usr/local/lib/python3.10/dist-packages/speech_recognition/recognizers/google.py\u001b[0m in \u001b[0;36mrecognize_legacy\u001b[0;34m(recognizer, audio_data, key, language, pfilter, show_all, with_confidence, endpoint)\u001b[0m\n\u001b[1;32m    261\u001b[0m         \u001b[0mshow_all\u001b[0m\u001b[0;34m=\u001b[0m\u001b[0mshow_all\u001b[0m\u001b[0;34m,\u001b[0m \u001b[0mwith_confidence\u001b[0m\u001b[0;34m=\u001b[0m\u001b[0mwith_confidence\u001b[0m\u001b[0;34m\u001b[0m\u001b[0;34m\u001b[0m\u001b[0m\n\u001b[1;32m    262\u001b[0m     )\n\u001b[0;32m--> 263\u001b[0;31m     \u001b[0;32mreturn\u001b[0m \u001b[0moutput_parser\u001b[0m\u001b[0;34m.\u001b[0m\u001b[0mparse\u001b[0m\u001b[0;34m(\u001b[0m\u001b[0mresponse_text\u001b[0m\u001b[0;34m)\u001b[0m\u001b[0;34m\u001b[0m\u001b[0;34m\u001b[0m\u001b[0m\n\u001b[0m",
            "\u001b[0;32m/usr/local/lib/python3.10/dist-packages/speech_recognition/recognizers/google.py\u001b[0m in \u001b[0;36mparse\u001b[0;34m(self, response_text)\u001b[0m\n\u001b[1;32m    132\u001b[0m \u001b[0;34m\u001b[0m\u001b[0m\n\u001b[1;32m    133\u001b[0m     \u001b[0;32mdef\u001b[0m \u001b[0mparse\u001b[0m\u001b[0;34m(\u001b[0m\u001b[0mself\u001b[0m\u001b[0;34m,\u001b[0m \u001b[0mresponse_text\u001b[0m\u001b[0;34m:\u001b[0m \u001b[0mstr\u001b[0m\u001b[0;34m)\u001b[0m\u001b[0;34m:\u001b[0m\u001b[0;34m\u001b[0m\u001b[0;34m\u001b[0m\u001b[0m\n\u001b[0;32m--> 134\u001b[0;31m         \u001b[0mactual_result\u001b[0m \u001b[0;34m=\u001b[0m \u001b[0mself\u001b[0m\u001b[0;34m.\u001b[0m\u001b[0mconvert_to_result\u001b[0m\u001b[0;34m(\u001b[0m\u001b[0mresponse_text\u001b[0m\u001b[0;34m)\u001b[0m\u001b[0;34m\u001b[0m\u001b[0;34m\u001b[0m\u001b[0m\n\u001b[0m\u001b[1;32m    135\u001b[0m         \u001b[0;32mif\u001b[0m \u001b[0mself\u001b[0m\u001b[0;34m.\u001b[0m\u001b[0mshow_all\u001b[0m\u001b[0;34m:\u001b[0m\u001b[0;34m\u001b[0m\u001b[0;34m\u001b[0m\u001b[0m\n\u001b[1;32m    136\u001b[0m             \u001b[0;32mreturn\u001b[0m \u001b[0mactual_result\u001b[0m\u001b[0;34m\u001b[0m\u001b[0;34m\u001b[0m\u001b[0m\n",
            "\u001b[0;32m/usr/local/lib/python3.10/dist-packages/speech_recognition/recognizers/google.py\u001b[0m in \u001b[0;36mconvert_to_result\u001b[0;34m(response_text)\u001b[0m\n\u001b[1;32m    181\u001b[0m                     \u001b[0;32mraise\u001b[0m \u001b[0mUnknownValueError\u001b[0m\u001b[0;34m(\u001b[0m\u001b[0;34m)\u001b[0m\u001b[0;34m\u001b[0m\u001b[0;34m\u001b[0m\u001b[0m\n\u001b[1;32m    182\u001b[0m                 \u001b[0;32mreturn\u001b[0m \u001b[0mresult\u001b[0m\u001b[0;34m[\u001b[0m\u001b[0;36m0\u001b[0m\u001b[0;34m]\u001b[0m\u001b[0;34m\u001b[0m\u001b[0;34m\u001b[0m\u001b[0m\n\u001b[0;32m--> 183\u001b[0;31m         \u001b[0;32mraise\u001b[0m \u001b[0mUnknownValueError\u001b[0m\u001b[0;34m(\u001b[0m\u001b[0;34m)\u001b[0m\u001b[0;34m\u001b[0m\u001b[0;34m\u001b[0m\u001b[0m\n\u001b[0m\u001b[1;32m    184\u001b[0m \u001b[0;34m\u001b[0m\u001b[0m\n\u001b[1;32m    185\u001b[0m     \u001b[0;34m@\u001b[0m\u001b[0mstaticmethod\u001b[0m\u001b[0;34m\u001b[0m\u001b[0;34m\u001b[0m\u001b[0m\n",
            "\u001b[0;31mUnknownValueError\u001b[0m: "
          ]
        }
      ]
    },
    {
      "cell_type": "code",
      "source": [
        "#subj1_sent_rep1_compressed\n",
        "\n",
        "!pip install python-Levenshtein\n",
        "import Levenshtein\n",
        "\n",
        "def calculate_wer(reference, hypothesis):\n",
        "    reference_words = reference.split()\n",
        "    hypothesis_words = hypothesis.split()\n",
        "\n",
        "    # Compute Levenshtein distance between the reference and hypothesis\n",
        "    distance = Levenshtein.distance(reference_words, hypothesis_words)\n",
        "\n",
        "    # Calculate Word Error Rate (WER)\n",
        "    wer = distance / len(reference_words)\n",
        "    return wer\n",
        "\n",
        "# Example usage\n",
        "reference_text0 = \"finally she administered ether\"\n",
        "hypothesis_text0 = \"finally she administered ether\"\n",
        "wer1 = calculate_wer(reference_text0, hypothesis_text0)\n",
        "print(f\"Word Error Rate (WER): {wer1}\")"
      ],
      "metadata": {
        "colab": {
          "base_uri": "https://localhost:8080/"
        },
        "id": "ql57aIm6iNbE",
        "outputId": "f3568afa-fe38-4af4-d862-7c7d855cdb31"
      },
      "execution_count": 30,
      "outputs": [
        {
          "output_type": "stream",
          "name": "stdout",
          "text": [
            "Requirement already satisfied: python-Levenshtein in /usr/local/lib/python3.10/dist-packages (0.26.1)\n",
            "Requirement already satisfied: Levenshtein==0.26.1 in /usr/local/lib/python3.10/dist-packages (from python-Levenshtein) (0.26.1)\n",
            "Requirement already satisfied: rapidfuzz<4.0.0,>=3.9.0 in /usr/local/lib/python3.10/dist-packages (from Levenshtein==0.26.1->python-Levenshtein) (3.10.1)\n",
            "Word Error Rate (WER): 0.0\n"
          ]
        }
      ]
    },
    {
      "cell_type": "code",
      "execution_count": 25,
      "metadata": {
        "colab": {
          "base_uri": "https://localhost:8080/"
        },
        "id": "tCu_W_eg-n4N",
        "outputId": "94bb023d-2943-4fc8-e71e-d9329f21708b"
      },
      "outputs": [
        {
          "output_type": "stream",
          "name": "stdout",
          "text": [
            "Requirement already satisfied: SpeechRecognition in /usr/local/lib/python3.10/dist-packages (3.12.0)\n",
            "Requirement already satisfied: typing-extensions in /usr/local/lib/python3.10/dist-packages (from SpeechRecognition) (4.12.2)\n",
            "File: s6_t1_r2.wav\n",
            "Text: finally she organized 308 either\n",
            "Word Count: 5\n",
            "\n",
            "File: s4_t1_r2.wav\n",
            "Text: finally she old manuscript eater\n",
            "Word Count: 5\n",
            "\n",
            "File: s2_t1_r2.wav\n",
            "Text: finally she administered either\n",
            "Word Count: 4\n",
            "\n",
            "File: s8_t1_r2.wav\n",
            "Text: finally she administered either\n",
            "Word Count: 4\n",
            "\n",
            "File: s10_t1_r2.wav\n",
            "Text: finally she administrative\n",
            "Word Count: 3\n",
            "\n",
            "File: s3_t1_r2.wav\n",
            "Text: finally she ultimately\n",
            "Word Count: 3\n",
            "\n",
            "File: s1_t1_r2.wav\n",
            "Text: finally she admitted either\n",
            "Word Count: 4\n",
            "\n",
            "File: s5_t1_r2.wav\n",
            "Text: finally she administer either\n",
            "Word Count: 4\n",
            "\n",
            "File: s7_t1_r2.wav\n",
            "Text: binary show The Mystery Theater\n",
            "Word Count: 5\n",
            "\n",
            "File: s9_t1_r2.wav\n",
            "Text: finally she ordered Minister either\n",
            "Word Count: 5\n",
            "\n"
          ]
        }
      ],
      "source": [
        "!pip install SpeechRecognition\n",
        "\n",
        "import os\n",
        "import speech_recognition as sr\n",
        "\n",
        "def convert_speech_to_text(audio_file):\n",
        "    recognizer = sr.Recognizer()\n",
        "\n",
        "    with sr.AudioFile(audio_file) as source:\n",
        "        audio = recognizer.record(source)  # Load the audio file\n",
        "\n",
        "    text = recognizer.recognize_google(audio)  # Use Google Speech Recognition API\n",
        "\n",
        "    return text\n",
        "\n",
        "def count_words(text):\n",
        "    words = text.split()  # Split the text into words\n",
        "    return len(words)    # Return the count of words\n",
        "\n",
        "# Path to the folder containing the WAV files\n",
        "folder_path = \"/content/comma\"\n",
        "\n",
        "# Iterate over the files in the folder\n",
        "for filename in os.listdir(folder_path):\n",
        "    if filename.endswith(\".wav\"):\n",
        "        audio_file = os.path.join(folder_path, filename)\n",
        "\n",
        "        converted_text = convert_speech_to_text(audio_file)  # Convert speech to text\n",
        "\n",
        "        word_count = count_words(converted_text)  # Count the words in the converted text\n",
        "\n",
        "        print(f\"File: {filename}\")\n",
        "        print(f\"Text: {converted_text}\")\n",
        "        print(f\"Word Count: {word_count}\\n\")\n"
      ]
    },
    {
      "cell_type": "code",
      "source": [
        "#subj1_sent_rep1_compressed\n",
        "\n",
        "!pip install python-Levenshtein\n",
        "import Levenshtein\n",
        "\n",
        "def calculate_wer(reference, hypothesis):\n",
        "    reference_words = reference.split()\n",
        "    hypothesis_words = hypothesis.split()\n",
        "\n",
        "    # Compute Levenshtein distance between the reference and hypothesis\n",
        "    distance = Levenshtein.distance(reference_words, hypothesis_words)\n",
        "\n",
        "    # Calculate Word Error Rate (WER)\n",
        "    wer = distance / len(reference_words)\n",
        "    return wer\n",
        "\n",
        "# Example usage\n",
        "reference_text1 = \"finally, she administered ether\"\n",
        "hypothesis_text1 = \"finally she admitted either\"\n",
        "wer1 = calculate_wer(reference_text1, hypothesis_text1)\n",
        "print(f\"Word Error Rate (WER): {wer1}\")\n",
        "\n",
        "reference_text2 = \"Finally, she administered ether\"\n",
        "hypothesis_text2 = \"finally she administered either\"\n",
        "wer2 = calculate_wer(reference_text2, hypothesis_text2)\n",
        "print(f\"Word Error Rate (WER): {wer2}\")\n",
        "\n",
        "reference_text3 = \"finally, she administered ether\"\n",
        "hypothesis_text3 = \"finally she ultimately\"\n",
        "wer3 = calculate_wer(reference_text3, hypothesis_text3)\n",
        "print(f\"Word Error Rate (WER): {wer3}\")\n",
        "\n",
        "reference_text4 = \"finally, she administered ether\"\n",
        "hypothesis_text4 = \"finally she old manuscript eater\"\n",
        "wer4 = calculate_wer(reference_text4, hypothesis_text4)\n",
        "print(f\"Word Error Rate (WER): {wer4}\")\n",
        "\n",
        "reference_text5 = \"finally, she administered ether\"\n",
        "hypothesis_text5 = \"finally she administer either\"\n",
        "wer5 = calculate_wer(reference_text5, hypothesis_text5)\n",
        "print(f\"Word Error Rate (WER): {wer5}\")\n",
        "\n",
        "reference_text6 = \"finally, she administered ether\"\n",
        "hypothesis_text6 = \"finally she organized 308 either\"\n",
        "wer6 = calculate_wer(reference_text6, hypothesis_text6)\n",
        "print(f\"Word Error Rate (WER): {wer6}\")\n",
        "\n",
        "reference_text7 = \"finally, she administered ether\"\n",
        "hypothesis_text7 = \"binary show The Mystery Theater\"\n",
        "wer7 = calculate_wer(reference_text7, hypothesis_text7)\n",
        "print(f\"Word Error Rate (WER): {wer7}\")\n",
        "\n",
        "reference_text8 = \"finally, she administered ether\"\n",
        "hypothesis_text8 = \"finally she administered either\"\n",
        "wer8 = calculate_wer(reference_text8, hypothesis_text8)\n",
        "print(f\"Word Error Rate (WER): {wer8}\")\n",
        "\n",
        "reference_text9 = \"finally, she administered ether\"\n",
        "hypothesis_text9 = \"finally she ordered Minister either\"\n",
        "wer9 = calculate_wer(reference_text9, hypothesis_text9)\n",
        "print(f\"Word Error Rate (WER): {wer9}\")\n",
        "\n",
        "reference_text10 = \"finally, she administered ether\"\n",
        "hypothesis_text10 = \"finally she administrative\"\n",
        "wer10 = calculate_wer(reference_text10, hypothesis_text10)\n",
        "print(f\"Word Error Rate (WER): {wer10}\")"
      ],
      "metadata": {
        "colab": {
          "base_uri": "https://localhost:8080/"
        },
        "id": "N2Yfn9mm_mIz",
        "outputId": "45ec656f-b582-4e34-fa95-f700ee65d670"
      },
      "execution_count": 2,
      "outputs": [
        {
          "output_type": "stream",
          "name": "stdout",
          "text": [
            "Collecting python-Levenshtein\n",
            "  Downloading python_Levenshtein-0.26.1-py3-none-any.whl.metadata (3.7 kB)\n",
            "Collecting Levenshtein==0.26.1 (from python-Levenshtein)\n",
            "  Downloading levenshtein-0.26.1-cp310-cp310-manylinux_2_17_x86_64.manylinux2014_x86_64.whl.metadata (3.2 kB)\n",
            "Collecting rapidfuzz<4.0.0,>=3.9.0 (from Levenshtein==0.26.1->python-Levenshtein)\n",
            "  Downloading rapidfuzz-3.10.1-cp310-cp310-manylinux_2_17_x86_64.manylinux2014_x86_64.whl.metadata (11 kB)\n",
            "Downloading python_Levenshtein-0.26.1-py3-none-any.whl (9.4 kB)\n",
            "Downloading levenshtein-0.26.1-cp310-cp310-manylinux_2_17_x86_64.manylinux2014_x86_64.whl (162 kB)\n",
            "\u001b[2K   \u001b[90m━━━━━━━━━━━━━━━━━━━━━━━━━━━━━━━━━━━━━━━━\u001b[0m \u001b[32m162.6/162.6 kB\u001b[0m \u001b[31m4.7 MB/s\u001b[0m eta \u001b[36m0:00:00\u001b[0m\n",
            "\u001b[?25hDownloading rapidfuzz-3.10.1-cp310-cp310-manylinux_2_17_x86_64.manylinux2014_x86_64.whl (3.1 MB)\n",
            "\u001b[2K   \u001b[90m━━━━━━━━━━━━━━━━━━━━━━━━━━━━━━━━━━━━━━━━\u001b[0m \u001b[32m3.1/3.1 MB\u001b[0m \u001b[31m45.9 MB/s\u001b[0m eta \u001b[36m0:00:00\u001b[0m\n",
            "\u001b[?25hInstalling collected packages: rapidfuzz, Levenshtein, python-Levenshtein\n",
            "Successfully installed Levenshtein-0.26.1 python-Levenshtein-0.26.1 rapidfuzz-3.10.1\n",
            "Word Error Rate (WER): 0.75\n",
            "Word Error Rate (WER): 0.5\n",
            "Word Error Rate (WER): 0.75\n",
            "Word Error Rate (WER): 1.0\n",
            "Word Error Rate (WER): 0.75\n",
            "Word Error Rate (WER): 1.0\n",
            "Word Error Rate (WER): 1.25\n",
            "Word Error Rate (WER): 0.5\n",
            "Word Error Rate (WER): 1.0\n",
            "Word Error Rate (WER): 0.75\n"
          ]
        }
      ]
    }
  ]
}