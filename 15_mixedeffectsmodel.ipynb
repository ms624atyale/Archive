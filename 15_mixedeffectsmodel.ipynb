{
  "nbformat": 4,
  "nbformat_minor": 0,
  "metadata": {
    "colab": {
      "provenance": [],
      "authorship_tag": "ABX9TyNXDfJETGR3+ro8t4Lvs+Ke",
      "include_colab_link": true
    },
    "kernelspec": {
      "name": "python3",
      "display_name": "Python 3"
    },
    "language_info": {
      "name": "python"
    }
  },
  "cells": [
    {
      "cell_type": "markdown",
      "metadata": {
        "id": "view-in-github",
        "colab_type": "text"
      },
      "source": [
        "<a href=\"https://colab.research.google.com/github/ms624atyale/Archive/blob/main/15_mixedeffectsmodel.ipynb\" target=\"_parent\"><img src=\"https://colab.research.google.com/assets/colab-badge.svg\" alt=\"Open In Colab\"/></a>"
      ]
    },
    {
      "cell_type": "markdown",
      "source": [
        "###_⏰ Before we get down to business_\n",
        "\n",
        "##**[EMA experiment Demo on Youtue](https://www.youtube.com/watch?v=pYSDkQa5WEI)**\n",
        "- <font color = 'red'> Watch 3:35 for the experimental demo"
      ],
      "metadata": {
        "id": "zxz9aLbdXM2r"
      }
    },
    {
      "cell_type": "markdown",
      "source": [
        "##**[1️⃣ Linear Regression Model\n",
        "\n",
        "###[**Recall linear equation (y = b + ax)**](https://github.com/ms624atyale/Data_Analysis/blob/main/9_LinearEquation.ipynb)**\n",
        "\n",
        "🍒 🍏 🍉 🍓 🍒 🍏 🍉 🍓 🍒 🍏 🍉 🍓 🍒 🍏\n",
        "\n",
        ">\n",
        "\n",
        "###_**Ho:**_ Constriction duration of the lower lip is the same across different speech rate (fast vs. comfortable).\n",
        "\n",
        ">\n",
        "\n",
        "[**To download a csv file for a class activity** 💽](https://github.com/ms624atyale/Data_Misc/blob/main/EMA_LLy_OpeningDur_apa_7Subjects_MixedEffectsModel_Sample_ClassActivity.csv)\n",
        "\n",
        "> summary(lm(LLy_ConstrictionDur ~ SpeechRate, data = dt))\n",
        "\n",
        "> Call:\n",
        "lm(formula = LLy_ConstrictionDur ~ SpeechRate, data = dt)\n",
        "\n",
        "---\n",
        "Residuals:\n",
        "\n",
        "|Min|1Q|Median|3Q|Max |\n",
        "|:-:|:-:|:-:|:-:|:-:|\n",
        "|-7.7304|-2.9342|-0.9342|1.0658|28.6696|\n",
        "\n",
        ">\n",
        "---\n",
        "Coefficients:\n",
        "\n",
        "||Estimate|Std. Error|t value|Pr(>t)|\n",
        "|:-:|:-:|:-:|:-:|:-:|\n",
        "|(Intercept)|<font color = 'blue'>**17.3304**|0.4993|34.711|< 2e-16 ***|\n",
        "|SpeechRatefast|<font color = 'red'>**-4.3961**|0.7077|-6.212|2.57e-09 ***|\n",
        "Signif. codes:  0 '***' 0.001 '**' 0.01 '*' 0.05 '.' 0.1 ' ' 1\n",
        "\n",
        "---\n",
        "Residual standard error: 5.284 on 221 degrees of freedom\n",
        "  (1 observation deleted due to missingness)\n",
        "\n",
        "Multiple R-squared:  0.1487,\t**Adjusted R-squared:  0.1448**\n",
        "\n",
        "**F-statistic: 38.59 on 1 and 221 DF,  p-value: 2.566e-09**\n",
        "\n",
        ">\n",
        "\n",
        "> Interpretation: “The constriction duration using the vertical movement of the lower lip varied with SpeechRate.” This indicates that constriction duration is shorter for Fast speech rate by 4.3961, compared to comfortable speech rate. Be aware that it is a negative value."
      ],
      "metadata": {
        "id": "XzDme0znWh3m"
      }
    },
    {
      "cell_type": "markdown",
      "source": [
        "# 2️⃣  Mixed Effects Model\n",
        "### A model contacting both fixed and random factors.\n",
        "### R packages: lmerTest\n",
        "R function: lmer() (cf., Johnson(2008) uses different packages and functions)\n",
        "\n",
        "\n",
        "1) **Fixed effects**: Factors we are interested in (e.g., speech rates, word boundary, prosodic position, etc. in Linguistics).\n",
        "\n",
        "2) **Random effects**: Subjects and items are randomly sampled from population.\n",
        "\n",
        "- Subjects and Items are randomly sampled from their population. Suppose we redo/repeat the same experiment. In this case, we design its experimental design same as the previous one, implying different subjects and items.\n",
        "\n",
        "- Caution: 수치들은 특정 화자들의 발화를 측정한 결과이다. 따라서 샘플이 다른 화자들을 측정 했을 때에는 결과가 달라질 수 있다. 화자는 전형적인 랜덤(non-repeatable)효과(random effects)의 예이다. (e.g., 교육학에서는 반별 차이, 영어통사론에서는 아이템(예: 동사별) 차이)\n",
        "\n",
        "    e.g., (*PP_SentInitial#* According to the media) (*Arg_subj#* President Menem) (*verb* took) (*Arg_obj#* office) (*PP_SentFinal#* on July 8).\n",
        "\n",
        "3) **Regidual(잔차)**\n",
        "- In regression analysis, a residual is calculated for each data point as follows\n",
        "\n",
        "    - 잔차는 통계에서 실제 관측값과 모델이 예측한 값 간의 차이를 나타내는 값이다.\n",
        "    \n",
        "    - 잔차(Residual) = 실제 값(Observed value)- 예측 값(Predictedvalue)\n",
        "\n",
        "\n",
        "- In a regression analysis, _smaller residuals indicate that the model's predictions are close to the actual values, suggesting a good fit_ (적합도가 좋음). <font color = 'brown'> **Larger residuals** suggest that the model may not be capturing all the patterns in the data, indicating a need for model improvement.</font> <font color = 'gray'>By examining the residuals, statisticians can identify potential issues with the model, such as non-linearity, outliers, or heteroscedasticity (non-constant variance of residuals)</font>.\n",
        "\n",
        "    - 잔차는 모델의 적합성을 평가하는 데 사용되며, 모델이 데이터를 얼마나 잘 설명하는지 보여준다.\n",
        "    \n",
        "    - Adjusted R-squared 값과 함께 통계 결과 보고에 효과적으로 사용할 수 있다.\n",
        "\n",
        "        - \"The linear regression model showed a good fit with an R-squared value of 0.85 and small residuals.\"\n",
        "    \n",
        "\n",
        "\n",
        ">\n",
        "\n",
        "###3) **Mixed effects Model:**\n",
        "\n",
        "summary(lmer(LLy_ConstrictionDur ~ SpeechRate + (1|Subject), data = dt))\n",
        "\n",
        "Linear mixed model fit by REML. t-tests use Satterthwaite's method ['lmerModLmerTest']\n",
        "\n",
        "Formula: LLy_ConstrictionDur ~ SpeechRate + (1 | Subject)\n",
        "   Data: dt\n",
        "\n",
        "REML criterion at convergence: 1360.7\n",
        "\n",
        "---\n",
        "Scaled residuals:\n",
        "\n",
        "|Min|1Q|Median|3Q|Max |\n",
        "|:-:|:-:|:-:|:-:|:-:|\n",
        "|-1.7235|-0.6019|-0.1638|0.3553|5.4982|\n",
        "\n",
        "---\n",
        "\n",
        "**Random effects:**\n",
        "\n",
        "|Groups|Name|Variance|Std.Dev.|\n",
        "|:-:|:-:|:-:|:-:|\n",
        "|Subject|(Intercept)|<font color = 'blue'>**2.899**| 1.703|\n",
        "|Residual|          |<font color = 'green'>**25.405**|5.040|\n",
        "Number of obs: 223, groups:  Subject, 7\n",
        "\n",
        "<font color = 'green'> Interpretation:</font>\n",
        "- <font color = 'green'> The residual of 25.405 stands for the random variation that does not stem from the individual subjects component.</font>\n",
        "\n",
        "\n",
        "___\n",
        "\n",
        "**Fixed effects:**\n",
        "\n",
        "\n",
        "||Estimate|Std. Error|df|t value|Pr(>t)|\n",
        "|:-:|:-:|:-:|:-:|:-:|:-:|\n",
        "|(Intercept)|<font color = 'blue'>**17.3304**|0.8006|8.8442| 21.648| 5.75e-09 ***|\n",
        "|SpeechRatefast|<font color = 'red'>**-4.3922**| 0.6751|215.0223|-6.506|5.33e-10 ***|\n",
        "Signif. codes:  0 '***' 0.001 '**' 0.01 '*' 0.05 '.' 0.1 ' ' 1\n",
        "       \n",
        "---\n",
        "**Correlation** of Fixed Effects:\n",
        "SpeechRtfst (Intr) -0.420\n",
        "\n"
      ],
      "metadata": {
        "id": "wzMe_cIXZ0G1"
      }
    },
    {
      "cell_type": "markdown",
      "source": [
        "#🍯 🍧  🍩  🍡  🍎 🍯 🍧  🍩  🍡  🍎 🍯 🍧  🍩  🍡  🍎 🍯 🍧  🍩  🍡  🍎\n",
        "\n",
        "Comparison table for the result of Linear regression model and that of Mixed Effects Model\n",
        "\n",
        "||Estimate with Linear Regression Model|Estimate with Mixed Effects Model|\n",
        "|:-:|:-:|:-:|\n",
        "|(Intercept)|<font color = 'blue'>**17.3304**|<font color = 'blue'>**17.3304**|\n",
        "|SpeechRatefast|<font color = 'red'>**-4.3961**| <font color = 'red'>**-4.3922**|\n"
      ],
      "metadata": {
        "id": "4MdsxY0gnFoh"
      }
    },
    {
      "cell_type": "markdown",
      "source": [
        "## 🔨 🔧 🔩 🚛 🚛 🚛  \n",
        "## **Under construction:** <font color = 'red'> **This is _NOT_ part of your Final (Spring 2024)**\n",
        "\n",
        "Mixed Effects Model Comparison using ANOVA\n",
        "- The results spit out Chi-squared value, Degree of Freedom, and p-value. You can report them on your document.\n",
        "- You can also report t-value of the Fixed Effects of the full model.\n",
        "\n",
        "What to report:\n",
        "- Shif of regiduals from the ramdom effects of a null model (e.g., with one factor) to that of a full model (e.g., with two factors).\n",
        "- Chi-squared value and p-value from model comparisons using ANOVA\n",
        "- Estimates of the fixed effects of a full model (e.g., with two factors)\n",
        "\n",
        "\n",
        "Example:\n",
        "\n",
        "  - \"Adding Speech rate <Table 1.c.i>, we shifted the variance that was previously seen in the random effects in the null model as shown in <Table 1.b.i> (the residual of 2.45 stands for the random variation that does not stem from the individual subjects component) to the fixed effects component (the residual of 2.37). To conclude, the vertical lower lip maxima varied with different speech rates ( _χ2_ = 6.73, p<0.01_), lowering it by 0.54 mm (_SE. ±0.21_) at fast rate (comfortable>fast).\"\n"
      ],
      "metadata": {
        "id": "RC2oYKsxOC0c"
      }
    }
  ]
}