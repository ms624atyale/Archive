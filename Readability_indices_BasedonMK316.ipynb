{
  "nbformat": 4,
  "nbformat_minor": 0,
  "metadata": {
    "colab": {
      "provenance": [],
      "include_colab_link": true
    },
    "kernelspec": {
      "name": "python3",
      "display_name": "Python 3"
    },
    "language_info": {
      "name": "python"
    }
  },
  "cells": [
    {
      "cell_type": "markdown",
      "metadata": {
        "id": "view-in-github",
        "colab_type": "text"
      },
      "source": [
        "<a href=\"https://colab.research.google.com/github/ms624atyale/Archive/blob/main/Readability_indices_BasedonMK316.ipynb\" target=\"_parent\"><img src=\"https://colab.research.google.com/assets/colab-badge.svg\" alt=\"Open In Colab\"/></a>"
      ]
    },
    {
      "cell_type": "markdown",
      "source": [
        "# Readability index\n",
        "\n",
        "* The Flesch Reading Ease formula\n",
        "* The Flesch-Kincaid Grade Level\n",
        "* The Fog Scale (Gunning FOG Formula)\n",
        "* The SMOG Index\n",
        "* Automated Readability Index\n",
        "* The Coleman-Liau Index\n",
        "* Linear Write Formula\n",
        "* Dale-Chall Readability Score And\n",
        "* Readability Consensus-based upon all the above tests"
      ],
      "metadata": {
        "id": "ebAIqv75f32j"
      }
    },
    {
      "cell_type": "code",
      "source": [
        "# Text to analyze\n",
        "txt = input()\n",
        "text = txt"
      ],
      "metadata": {
        "colab": {
          "base_uri": "https://localhost:8080/"
        },
        "id": "zR0bcR0fgPzv",
        "outputId": "62a5b664-bc8a-4fb7-b3d8-97fbfe380de7"
      },
      "execution_count": null,
      "outputs": [
        {
          "name": "stdout",
          "output_type": "stream",
          "text": [
            "So, there was a social pressure for art to come up with  some vocation that both distinguished it from science and,  at the same time, made it equal in stature to science.  Representational theories of art treat the work of the artist as  similar to that of the scientist. Both, so to speak, are involved in  describing the external world. ( ① ) But by the nineteenth  century, any comparison between the scientist and the artist  was bound to make the artist look like a poor relation in terms  of making discoveries about the world or holding a mirror up to  nature. ( ② ) Here, science clearly had the edge. ( ③ ) The  notion that art specialized in the expression of the emotions  was particularly attractive in this light. ( ④ ) It rendered unto  science its own ― the exploration of the objective world ― while  saving something comparably important for art to do ― to  explore the inner world of feeling. ( ⑤ ) If science held the  mirror up to nature, art turned a mirror at the self and its  experiences.\n"
          ]
        }
      ]
    },
    {
      "cell_type": "markdown",
      "source": [
        "## [1] Flesch Reading Ease measure\n",
        "\n",
        "| Score | Difficulty |\n",
        "|---|---|\n",
        "| 90 ~ 100| Very Easy |\n",
        "| 80 ~ 89 | Easy |\n",
        "| 70 ~ 79| Fairly Easy |\n",
        "| 60 ~69| Standard |\n",
        "| 50 ~ 59 | Fairly Difficulty |\n",
        "| 30 ~ 49 | Difficult |\n",
        "| 0 ~ 29 | Very Confusing |"
      ],
      "metadata": {
        "id": "yYCpXwErgo1i"
      }
    },
    {
      "cell_type": "code",
      "execution_count": null,
      "metadata": {
        "colab": {
          "base_uri": "https://localhost:8080/"
        },
        "id": "d1NRhmtaf3Lt",
        "outputId": "4a8bc83a-9592-4000-fb36-644486e378f1"
      },
      "outputs": [
        {
          "output_type": "stream",
          "name": "stdout",
          "text": [
            "Looking in indexes: https://pypi.org/simple, https://us-python.pkg.dev/colab-wheels/public/simple/\n",
            "Collecting textstat\n",
            "  Downloading textstat-0.7.3-py3-none-any.whl (105 kB)\n",
            "\u001b[K     |████████████████████████████████| 105 kB 2.9 MB/s \n",
            "\u001b[?25hCollecting pyphen\n",
            "  Downloading pyphen-0.13.0-py3-none-any.whl (2.0 MB)\n",
            "\u001b[K     |████████████████████████████████| 2.0 MB 11.5 MB/s \n",
            "\u001b[?25hInstalling collected packages: pyphen, textstat\n",
            "Successfully installed pyphen-0.13.0 textstat-0.7.3\n"
          ]
        },
        {
          "output_type": "execute_result",
          "data": {
            "text/plain": [
              "58.01"
            ]
          },
          "metadata": {},
          "execution_count": 3
        }
      ],
      "source": [
        "!pip install textstat\n",
        "import textstat"
      ]
    },
    {
      "cell_type": "code",
      "source": [
        "textstat.flesch_reading_ease(text)"
      ],
      "metadata": {
        "colab": {
          "base_uri": "https://localhost:8080/"
        },
        "id": "LGe_NTj6ghtE",
        "outputId": "c1dd1c1b-bd18-4c0f-ea78-5420f89f2e1b"
      },
      "execution_count": null,
      "outputs": [
        {
          "output_type": "execute_result",
          "data": {
            "text/plain": [
              "58.01"
            ]
          },
          "metadata": {},
          "execution_count": 4
        }
      ]
    },
    {
      "cell_type": "markdown",
      "source": [
        "## [2]"
      ],
      "metadata": {
        "id": "A2YJC1YDiVco"
      }
    }
  ]
}